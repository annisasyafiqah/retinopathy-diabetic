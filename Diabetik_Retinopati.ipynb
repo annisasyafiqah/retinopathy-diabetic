{
  "cells": [
    {
      "cell_type": "code",
      "execution_count": 1,
      "metadata": {
        "id": "KKQ1_5VKUy8a"
      },
      "outputs": [],
      "source": [
        "from matplotlib.pyplot import imread, imshow, subplots, show\n",
        "from matplotlib import pyplot as plt\n",
        "import matplotlib.image as mpimg\n",
        "import os\n",
        "import cv2\n",
        "import numpy as np\n",
        "import zipfile\n",
        "from os import listdir\n",
        "from os.path import isfile, join"
      ]
    },
    {
      "cell_type": "code",
      "execution_count": 2,
      "metadata": {
        "id": "JotBWHSFWDwz"
      },
      "outputs": [],
      "source": [
        "IMG_SIZE = 612"
      ]
    },
    {
      "cell_type": "code",
      "execution_count": 3,
      "metadata": {
        "id": "Tyq3vm5CWFwo"
      },
      "outputs": [],
      "source": [
        "path_trainDIB = 'diabetic_images'"
      ]
    },
    {
      "cell_type": "code",
      "execution_count": 4,
      "metadata": {
        "id": "wHQH7cwdWts-"
      },
      "outputs": [],
      "source": [
        "n = \n",
        "for filename in os.listdir(path_trainDIB):\n",
        "    image_trainDIB = cv2.imread(f\"{path_trainDIB}/{filename}\")\n",
        "    image_trainDIB = cv2.cvtColor(image_trainDIB, cv2.COLOR_BGR2GRAY)\n",
        "    image_trainDIB = cv2.resize(image_trainDIB, (IMG_SIZE, IMG_SIZE))\n",
        "    image_trainDIB = cv2.addWeighted(image_trainDIB,4, cv2.GaussianBlur(image_trainDIB, (0,0) , 40), -4, 128)\n",
        "    cv2.imwrite(f\"Data_Kurangi_Filter/Training/diabetic_images/Diabetes_{n}.png\", image_trainDIB)\n",
        "    n += 1"
      ]
    },
    {
      "cell_type": "code",
      "execution_count": null,
      "metadata": {
        "id": "9eQz-GBoWwWm"
      },
      "outputs": [],
      "source": [
        "path_trainNonDIB = 'normal_images'"
      ]
    },
    {
      "cell_type": "code",
      "execution_count": 17,
      "metadata": {
        "id": "UboIoFUoXcbo"
      },
      "outputs": [],
      "source": [
        "n = 1\n",
        "for filename in os.listdir(path_trainNonDIB):\n",
        "    image_trainNonDIB = cv2.imread(f\"{path_trainNonDIB}/{filename}\")\n",
        "    image_trainNonDIB = cv2.cvtColor(image_trainNonDIB, cv2.COLOR_BGR2GRAY)\n",
        "    image_trainNonDIB = cv2.resize(image_trainNonDIB, (IMG_SIZE, IMG_SIZE))\n",
        "    image_trainNonDIB = cv2.addWeighted(image_trainNonDIB,4, cv2.GaussianBlur(image_trainNonDIB, (0,0) , 40), -4, 128)\n",
        "    cv2.imwrite(f\"Data_Kurangi_Filter/Training/normal_images/NonDiabetes_{n}.png\", image_trainNonDIB)\n",
        "    n += 1"
      ]
    },
    {
      "cell_type": "code",
      "execution_count": 18,
      "metadata": {
        "id": "FtawgrKXZqF-"
      },
      "outputs": [],
      "source": [
        "path_testDIB = 'diabetic_images'"
      ]
    },
    {
      "cell_type": "code",
      "execution_count": 19,
      "metadata": {
        "id": "l7cb5bOJcJG_"
      },
      "outputs": [],
      "source": [
        "n = 1\n",
        "for filename in os.listdir(path_testDIB):\n",
        "    image_testDIB = cv2.imread(f\"{path_testDIB}/{filename}\")\n",
        "    image_testDIB = cv2.cvtColor(image_testDIB, cv2.COLOR_BGR2GRAY)\n",
        "    image_testDIB = cv2.resize(image_testDIB, (IMG_SIZE, IMG_SIZE))\n",
        "    image_testDIB = cv2.addWeighted(image_testDIB,4, cv2.GaussianBlur(image_testDIB, (0,0) , 40), -4, 128)\n",
        "    cv2.imwrite(f\"Data_Kurangi_Filter/Testing/diabetic_images/Diabetes_{n}.png\", image_testDIB)\n",
        "    n += 1"
      ]
    },
    {
      "cell_type": "code",
      "execution_count": 20,
      "metadata": {
        "id": "FOjpXubqckOr"
      },
      "outputs": [],
      "source": [
        "path_testNonDIB = 'normal_images'"
      ]
    },
    {
      "cell_type": "code",
      "execution_count": 21,
      "metadata": {
        "id": "8M1IOpJEcnLU"
      },
      "outputs": [],
      "source": [
        "n = 1\n",
        "for filename in os.listdir(path_testNonDIB):\n",
        "    image_testNonDIB = cv2.imread(f\"{path_testNonDIB}/{filename}\")\n",
        "    image_testNonDIB = cv2.cvtColor(image_testNonDIB, cv2.COLOR_BGR2GRAY)\n",
        "    image_testNonDIB = cv2.resize(image_testNonDIB, (IMG_SIZE, IMG_SIZE))\n",
        "    image_testNonDIB = cv2.addWeighted(image_testNonDIB,4, cv2.GaussianBlur(image_testNonDIB, (0,0) , 40), -4, 128)\n",
        "    cv2.imwrite(f\"Data_Kurangi_Filter/Testing/normal_images/NonDiabetes_{n}.png\", image_testNonDIB)\n",
        "    n += 1"
      ]
    },
    {
      "cell_type": "code",
      "execution_count": 7,
      "metadata": {
        "id": "TxmeV_A1dAhM"
      },
      "outputs": [],
      "source": [
        "import os\n",
        "import numpy as np\n",
        "from tensorflow.keras.preprocessing.image import ImageDataGenerator\n",
        "from tensorflow.keras.models import Sequential\n",
        "from tensorflow.keras.layers import Dense, Conv2D, MaxPool2D, Flatten\n",
        "import tensorflow as tf\n",
        "import matplotlib.pyplot as plt\n",
        "import cv2\n",
        "%matplotlib inline"
      ]
    },
    {
      "cell_type": "code",
      "execution_count": 8,
      "metadata": {
        "colab": {
          "base_uri": "https://localhost:8080/"
        },
        "id": "Dh9AzzDAeaMg",
        "outputId": "fd125f4f-d486-4407-f273-a86d11fa5d1a"
      },
      "outputs": [
        {
          "name": "stdout",
          "output_type": "stream",
          "text": [
            "total diabetes training images :  200\n",
            "total non diabetes training images :  200\n",
            "total diabetes testing images :  200\n",
            "total non diabetes testing images :  200\n"
          ]
        }
      ],
      "source": [
        "print('total diabetes training images : ', len (os.listdir('Data_Kurangi_Filter/Training/diabetic_images')))\n",
        "print('total non diabetes training images : ', len (os.listdir('Data_Kurangi_Filter/Training/normal_images')))\n",
        "print('total diabetes testing images : ', len (os.listdir('Data_Kurangi_Filter/Testing/diabetic_images')))\n",
        "print('total non diabetes testing images : ', len (os.listdir('Data_Kurangi_Filter/Testing/normal_images')))"
      ]
    },
    {
      "cell_type": "code",
      "execution_count": 9,
      "metadata": {
        "id": "LCXuS1ZAfNfz"
      },
      "outputs": [],
      "source": [
        "train_dir = os.path.join('Data_Kurangi_Filter/Training')\n",
        "testing_dir = os.path.join('Data_Kurangi_Filter/Testing')"
      ]
    },
    {
      "cell_type": "code",
      "execution_count": 10,
      "metadata": {
        "colab": {
          "base_uri": "https://localhost:8080/"
        },
        "id": "Fvi7vSCGfiEq",
        "outputId": "e2106cf1-201e-4bb2-f3a1-88f4a0fae570"
      },
      "outputs": [
        {
          "name": "stdout",
          "output_type": "stream",
          "text": [
            "['Diabetic', 'Normal']\n"
          ]
        }
      ],
      "source": [
        "class_names = ['Diabetic', 'Normal']\n",
        "print(class_names)"
      ]
    },
    {
      "cell_type": "code",
      "execution_count": 11,
      "metadata": {
        "id": "DJh9J4-XfvGw"
      },
      "outputs": [],
      "source": [
        "#Augmentasi Gambar\n",
        "train_datagen = ImageDataGenerator(\n",
        "    rescale=1./255,\n",
        "    horizontal_flip=True,\n",
        "    zoom_range=0.3,\n",
        "    shear_range=0.2,\n",
        "    validation_split=0.1\n",
        ")"
      ]
    },
    {
      "cell_type": "code",
      "execution_count": 12,
      "metadata": {
        "colab": {
          "base_uri": "https://localhost:8080/"
        },
        "id": "3jOCl9ZsgF5K",
        "outputId": "9023a282-1812-4a11-cf31-9c87d9f0c94e"
      },
      "outputs": [
        {
          "name": "stdout",
          "output_type": "stream",
          "text": [
            "Found 360 images belonging to 2 classes.\n"
          ]
        }
      ],
      "source": [
        "train_generator = train_datagen.flow_from_directory(\n",
        "    train_dir,\n",
        "    target_size=(150,150),\n",
        "    batch_size=4,\n",
        "    class_mode='categorical',\n",
        "    subset='training'\n",
        ")"
      ]
    },
    {
      "cell_type": "code",
      "execution_count": 13,
      "metadata": {
        "colab": {
          "base_uri": "https://localhost:8080/"
        },
        "id": "Cljr5-D9glE5",
        "outputId": "5c6e4a95-471d-426e-d965-3b99fe037063"
      },
      "outputs": [
        {
          "data": {
            "text/plain": [
              "{'diabetic_images': 0, 'normal_images': 1}"
            ]
          },
          "execution_count": 13,
          "metadata": {},
          "output_type": "execute_result"
        }
      ],
      "source": [
        "train_generator.class_indices"
      ]
    },
    {
      "cell_type": "code",
      "execution_count": 14,
      "metadata": {
        "colab": {
          "base_uri": "https://localhost:8080/"
        },
        "id": "i_066qE6gqhW",
        "outputId": "fc4dd215-de5d-4c9b-f8f5-7db44572d7b9"
      },
      "outputs": [
        {
          "name": "stdout",
          "output_type": "stream",
          "text": [
            "Found 40 images belonging to 2 classes.\n"
          ]
        }
      ],
      "source": [
        "validation_generator = train_datagen.flow_from_directory(\n",
        "    train_dir,\n",
        "    target_size=(150,150),\n",
        "    batch_size=4,\n",
        "    class_mode='categorical',\n",
        "    subset='validation'    \n",
        ")"
      ]
    },
    {
      "cell_type": "code",
      "execution_count": 15,
      "metadata": {
        "colab": {
          "base_uri": "https://localhost:8080/"
        },
        "id": "G0TxSj3gg5hT",
        "outputId": "7edd159b-5351-40fb-eb2d-6db63c44fbe7"
      },
      "outputs": [
        {
          "data": {
            "text/plain": [
              "{'diabetic_images': 0, 'normal_images': 1}"
            ]
          },
          "execution_count": 15,
          "metadata": {},
          "output_type": "execute_result"
        }
      ],
      "source": [
        "validation_generator.class_indices"
      ]
    },
    {
      "cell_type": "code",
      "execution_count": 16,
      "metadata": {
        "id": "aw4xreQvg9uc"
      },
      "outputs": [],
      "source": [
        "model = Sequential()\n",
        "#Proses Ekstraksi\n",
        "model.add(Conv2D(64,input_shape=(150,150,3),kernel_size=(3,3), activation=\"relu\"))\n",
        "model.add(MaxPool2D(pool_size=(2,2),strides=(2,2)))\n",
        "model.add(Conv2D(128,kernel_size=(3,3), activation=\"relu\"))\n",
        "model.add(MaxPool2D(pool_size=(2,2),strides=(2,2)))\n",
        "model.add(Conv2D(256,kernel_size=(3,3), activation=\"relu\"))\n",
        "model.add(MaxPool2D(pool_size=(2,2),strides=(2,2)))\n",
        "#connected network\n",
        "model.add(Flatten())\n",
        "model.add(Dense(units=512,activation=\"relu\"))\n",
        "model.add(Dense(units=512,activation=\"relu\"))\n",
        "model.add(Dense(units=2,activation=\"softmax\"))"
      ]
    },
    {
      "cell_type": "code",
      "execution_count": 17,
      "metadata": {
        "colab": {
          "base_uri": "https://localhost:8080/"
        },
        "id": "eKfwsYrJh6DI",
        "outputId": "67130967-e1bc-44d8-948d-d00c9430beb1"
      },
      "outputs": [
        {
          "name": "stdout",
          "output_type": "stream",
          "text": [
            "Model: \"sequential_1\"\n",
            "_________________________________________________________________\n",
            " Layer (type)                Output Shape              Param #   \n",
            "=================================================================\n",
            " conv2d_3 (Conv2D)           (None, 148, 148, 64)      1792      \n",
            "                                                                 \n",
            " max_pooling2d_3 (MaxPooling  (None, 74, 74, 64)       0         \n",
            " 2D)                                                             \n",
            "                                                                 \n",
            " conv2d_4 (Conv2D)           (None, 72, 72, 128)       73856     \n",
            "                                                                 \n",
            " max_pooling2d_4 (MaxPooling  (None, 36, 36, 128)      0         \n",
            " 2D)                                                             \n",
            "                                                                 \n",
            " conv2d_5 (Conv2D)           (None, 34, 34, 256)       295168    \n",
            "                                                                 \n",
            " max_pooling2d_5 (MaxPooling  (None, 17, 17, 256)      0         \n",
            " 2D)                                                             \n",
            "                                                                 \n",
            " flatten_1 (Flatten)         (None, 73984)             0         \n",
            "                                                                 \n",
            " dense_3 (Dense)             (None, 512)               37880320  \n",
            "                                                                 \n",
            " dense_4 (Dense)             (None, 512)               262656    \n",
            "                                                                 \n",
            " dense_5 (Dense)             (None, 2)                 1026      \n",
            "                                                                 \n",
            "=================================================================\n",
            "Total params: 38,514,818\n",
            "Trainable params: 38,514,818\n",
            "Non-trainable params: 0\n",
            "_________________________________________________________________\n"
          ]
        }
      ],
      "source": [
        "model.summary()"
      ]
    },
    {
      "cell_type": "code",
      "execution_count": 18,
      "metadata": {
        "id": "09UgpwcKiDrA"
      },
      "outputs": [],
      "source": [
        "# Model Optimizer\n",
        "model.compile(loss='binary_crossentropy', optimizer=tf.optimizers.Adamax(learning_rate=0.001), metrics=['accuracy'])"
      ]
    },
    {
      "cell_type": "code",
      "execution_count": 32,
      "metadata": {
        "colab": {
          "base_uri": "https://localhost:8080/",
          "height": 1000
        },
        "id": "3cb_Bwgyi4l2",
        "outputId": "fba7c909-8ace-4cd3-ed1b-5abf9edcd397"
      },
      "outputs": [
        {
          "name": "stdout",
          "output_type": "stream",
          "text": [
            "Epoch 1/150\n",
            "50/50 - 73s - loss: 0.6828 - accuracy: 0.6000 - val_loss: 0.6775 - val_accuracy: 0.5500 - 73s/epoch - 1s/step\n",
            "Epoch 2/150\n",
            "50/50 - 61s - loss: 0.6878 - accuracy: 0.5700 - val_loss: 0.6907 - val_accuracy: 0.5500 - 61s/epoch - 1s/step\n",
            "Epoch 3/150\n",
            "50/50 - 57s - loss: 0.6844 - accuracy: 0.5600 - val_loss: 0.6833 - val_accuracy: 0.6500 - 57s/epoch - 1s/step\n",
            "Epoch 4/150\n",
            "50/50 - 58s - loss: 0.6930 - accuracy: 0.5500 - val_loss: 0.6861 - val_accuracy: 0.6000 - 58s/epoch - 1s/step\n",
            "Epoch 5/150\n",
            "50/50 - 59s - loss: 0.6779 - accuracy: 0.5750 - val_loss: 0.6237 - val_accuracy: 0.6500 - 59s/epoch - 1s/step\n",
            "Epoch 6/150\n",
            "50/50 - 57s - loss: 0.6687 - accuracy: 0.6300 - val_loss: 0.5771 - val_accuracy: 0.9000 - 57s/epoch - 1s/step\n",
            "Epoch 7/150\n",
            "50/50 - 58s - loss: 0.6380 - accuracy: 0.6450 - val_loss: 0.6991 - val_accuracy: 0.6500 - 58s/epoch - 1s/step\n",
            "Epoch 8/150\n",
            "50/50 - 57s - loss: 0.7034 - accuracy: 0.5100 - val_loss: 0.6769 - val_accuracy: 0.6000 - 57s/epoch - 1s/step\n",
            "Epoch 9/150\n",
            "50/50 - 57s - loss: 0.6667 - accuracy: 0.6150 - val_loss: 0.6422 - val_accuracy: 0.5500 - 57s/epoch - 1s/step\n",
            "Epoch 10/150\n",
            "50/50 - 56s - loss: 0.6648 - accuracy: 0.5800 - val_loss: 0.6077 - val_accuracy: 0.7000 - 56s/epoch - 1s/step\n",
            "Epoch 11/150\n",
            "50/50 - 57s - loss: 0.6543 - accuracy: 0.6300 - val_loss: 0.5926 - val_accuracy: 0.7500 - 57s/epoch - 1s/step\n",
            "Epoch 12/150\n",
            "50/50 - 57s - loss: 0.6026 - accuracy: 0.6900 - val_loss: 0.6227 - val_accuracy: 0.6000 - 57s/epoch - 1s/step\n",
            "Epoch 13/150\n",
            "50/50 - 57s - loss: 0.6051 - accuracy: 0.6850 - val_loss: 0.6948 - val_accuracy: 0.5000 - 57s/epoch - 1s/step\n",
            "Epoch 14/150\n",
            "50/50 - 58s - loss: 0.6031 - accuracy: 0.6750 - val_loss: 0.7072 - val_accuracy: 0.4500 - 58s/epoch - 1s/step\n",
            "Epoch 15/150\n",
            "50/50 - 57s - loss: 0.6600 - accuracy: 0.6150 - val_loss: 0.6276 - val_accuracy: 0.4500 - 57s/epoch - 1s/step\n",
            "Epoch 16/150\n",
            "50/50 - 58s - loss: 0.5976 - accuracy: 0.6950 - val_loss: 0.5785 - val_accuracy: 0.6000 - 58s/epoch - 1s/step\n",
            "Epoch 17/150\n",
            "50/50 - 57s - loss: 0.6005 - accuracy: 0.6700 - val_loss: 0.5694 - val_accuracy: 0.7500 - 57s/epoch - 1s/step\n",
            "Epoch 18/150\n",
            "50/50 - 57s - loss: 0.5633 - accuracy: 0.7400 - val_loss: 0.6688 - val_accuracy: 0.6500 - 57s/epoch - 1s/step\n",
            "Epoch 19/150\n",
            "50/50 - 59s - loss: 0.6073 - accuracy: 0.6900 - val_loss: 0.5734 - val_accuracy: 0.7000 - 59s/epoch - 1s/step\n",
            "Epoch 20/150\n",
            "50/50 - 56s - loss: 0.6028 - accuracy: 0.6750 - val_loss: 0.5579 - val_accuracy: 0.6000 - 56s/epoch - 1s/step\n",
            "Epoch 21/150\n",
            "50/50 - 55s - loss: 0.5714 - accuracy: 0.6550 - val_loss: 0.6208 - val_accuracy: 0.7000 - 55s/epoch - 1s/step\n",
            "Epoch 22/150\n",
            "50/50 - 56s - loss: 0.5233 - accuracy: 0.7600 - val_loss: 0.6524 - val_accuracy: 0.7000 - 56s/epoch - 1s/step\n",
            "Epoch 23/150\n",
            "50/50 - 56s - loss: 0.5510 - accuracy: 0.7100 - val_loss: 0.6169 - val_accuracy: 0.8000 - 56s/epoch - 1s/step\n",
            "Epoch 24/150\n",
            "50/50 - 57s - loss: 0.5937 - accuracy: 0.6550 - val_loss: 0.7334 - val_accuracy: 0.5500 - 57s/epoch - 1s/step\n",
            "Epoch 25/150\n",
            "50/50 - 57s - loss: 0.5553 - accuracy: 0.7300 - val_loss: 0.8421 - val_accuracy: 0.5500 - 57s/epoch - 1s/step\n",
            "Epoch 26/150\n",
            "50/50 - 55s - loss: 0.5506 - accuracy: 0.7300 - val_loss: 0.7035 - val_accuracy: 0.6000 - 55s/epoch - 1s/step\n",
            "Epoch 27/150\n",
            "50/50 - 55s - loss: 0.5116 - accuracy: 0.7500 - val_loss: 0.6506 - val_accuracy: 0.6000 - 55s/epoch - 1s/step\n",
            "Epoch 28/150\n",
            "50/50 - 56s - loss: 0.5406 - accuracy: 0.7250 - val_loss: 0.7354 - val_accuracy: 0.6000 - 56s/epoch - 1s/step\n",
            "Epoch 29/150\n",
            "50/50 - 57s - loss: 0.5126 - accuracy: 0.7600 - val_loss: 0.5909 - val_accuracy: 0.7500 - 57s/epoch - 1s/step\n",
            "Epoch 30/150\n",
            "50/50 - 55s - loss: 0.4651 - accuracy: 0.7800 - val_loss: 0.6480 - val_accuracy: 0.6000 - 55s/epoch - 1s/step\n",
            "Epoch 31/150\n",
            "50/50 - 55s - loss: 0.5541 - accuracy: 0.7250 - val_loss: 0.7027 - val_accuracy: 0.6500 - 55s/epoch - 1s/step\n",
            "Epoch 32/150\n",
            "50/50 - 55s - loss: 0.4775 - accuracy: 0.7550 - val_loss: 0.7386 - val_accuracy: 0.7000 - 55s/epoch - 1s/step\n",
            "Epoch 33/150\n",
            "50/50 - 55s - loss: 0.5102 - accuracy: 0.7400 - val_loss: 0.6325 - val_accuracy: 0.6500 - 55s/epoch - 1s/step\n",
            "Epoch 34/150\n",
            "50/50 - 55s - loss: 0.4996 - accuracy: 0.7700 - val_loss: 0.5969 - val_accuracy: 0.7000 - 55s/epoch - 1s/step\n",
            "Epoch 35/150\n",
            "50/50 - 55s - loss: 0.5420 - accuracy: 0.7400 - val_loss: 0.6294 - val_accuracy: 0.7000 - 55s/epoch - 1s/step\n",
            "Epoch 36/150\n",
            "50/50 - 56s - loss: 0.5229 - accuracy: 0.7500 - val_loss: 0.4993 - val_accuracy: 0.7500 - 56s/epoch - 1s/step\n",
            "Epoch 37/150\n",
            "50/50 - 61s - loss: 0.4990 - accuracy: 0.7550 - val_loss: 0.7172 - val_accuracy: 0.5500 - 61s/epoch - 1s/step\n",
            "Epoch 38/150\n",
            "50/50 - 62s - loss: 0.5081 - accuracy: 0.7600 - val_loss: 0.5236 - val_accuracy: 0.7000 - 62s/epoch - 1s/step\n",
            "Epoch 39/150\n",
            "50/50 - 57s - loss: 0.4345 - accuracy: 0.8000 - val_loss: 0.5308 - val_accuracy: 0.6500 - 57s/epoch - 1s/step\n",
            "Epoch 40/150\n",
            "50/50 - 57s - loss: 0.4845 - accuracy: 0.7400 - val_loss: 0.4257 - val_accuracy: 0.8000 - 57s/epoch - 1s/step\n",
            "Epoch 41/150\n",
            "50/50 - 56s - loss: 0.5430 - accuracy: 0.7050 - val_loss: 0.7020 - val_accuracy: 0.5500 - 56s/epoch - 1s/step\n",
            "Epoch 42/150\n",
            "50/50 - 57s - loss: 0.4474 - accuracy: 0.7800 - val_loss: 0.6289 - val_accuracy: 0.7000 - 57s/epoch - 1s/step\n",
            "Epoch 43/150\n",
            "50/50 - 56s - loss: 0.4972 - accuracy: 0.7950 - val_loss: 0.6059 - val_accuracy: 0.6000 - 56s/epoch - 1s/step\n",
            "Epoch 44/150\n",
            "50/50 - 57s - loss: 0.4978 - accuracy: 0.7550 - val_loss: 0.6083 - val_accuracy: 0.6000 - 57s/epoch - 1s/step\n",
            "Epoch 45/150\n",
            "50/50 - 56s - loss: 0.4883 - accuracy: 0.7800 - val_loss: 0.6583 - val_accuracy: 0.6000 - 56s/epoch - 1s/step\n",
            "Epoch 46/150\n",
            "50/50 - 56s - loss: 0.4646 - accuracy: 0.7700 - val_loss: 0.4941 - val_accuracy: 0.7000 - 56s/epoch - 1s/step\n",
            "Epoch 47/150\n",
            "50/50 - 57s - loss: 0.4555 - accuracy: 0.8000 - val_loss: 0.6360 - val_accuracy: 0.7500 - 57s/epoch - 1s/step\n",
            "Epoch 48/150\n",
            "50/50 - 58s - loss: 0.4899 - accuracy: 0.7650 - val_loss: 0.4268 - val_accuracy: 0.7000 - 58s/epoch - 1s/step\n",
            "Epoch 49/150\n",
            "50/50 - 64s - loss: 0.4277 - accuracy: 0.7850 - val_loss: 0.7926 - val_accuracy: 0.6000 - 64s/epoch - 1s/step\n",
            "Epoch 50/150\n",
            "50/50 - 76s - loss: 0.5119 - accuracy: 0.7700 - val_loss: 0.5807 - val_accuracy: 0.6500 - 76s/epoch - 2s/step\n",
            "Epoch 51/150\n",
            "50/50 - 118s - loss: 0.4392 - accuracy: 0.8150 - val_loss: 0.5717 - val_accuracy: 0.7000 - 118s/epoch - 2s/step\n",
            "Epoch 52/150\n",
            "50/50 - 121s - loss: 0.4655 - accuracy: 0.8000 - val_loss: 0.4904 - val_accuracy: 0.7000 - 121s/epoch - 2s/step\n",
            "Epoch 53/150\n",
            "50/50 - 105s - loss: 0.4401 - accuracy: 0.7900 - val_loss: 0.3999 - val_accuracy: 0.8500 - 105s/epoch - 2s/step\n",
            "Epoch 54/150\n",
            "50/50 - 74s - loss: 0.4299 - accuracy: 0.8050 - val_loss: 0.9550 - val_accuracy: 0.4500 - 74s/epoch - 1s/step\n",
            "Epoch 55/150\n",
            "50/50 - 81s - loss: 0.3851 - accuracy: 0.7950 - val_loss: 0.6841 - val_accuracy: 0.7500 - 81s/epoch - 2s/step\n",
            "Epoch 56/150\n",
            "50/50 - 70s - loss: 0.4087 - accuracy: 0.8050 - val_loss: 0.5124 - val_accuracy: 0.7500 - 70s/epoch - 1s/step\n",
            "Epoch 57/150\n",
            "50/50 - 71s - loss: 0.4326 - accuracy: 0.8100 - val_loss: 0.4891 - val_accuracy: 0.8000 - 71s/epoch - 1s/step\n",
            "Epoch 58/150\n",
            "50/50 - 74s - loss: 0.4252 - accuracy: 0.7800 - val_loss: 0.6071 - val_accuracy: 0.6000 - 74s/epoch - 1s/step\n",
            "Epoch 59/150\n",
            "50/50 - 114s - loss: 0.4340 - accuracy: 0.8150 - val_loss: 0.6755 - val_accuracy: 0.7500 - 114s/epoch - 2s/step\n",
            "Epoch 60/150\n",
            "50/50 - 126s - loss: 0.3641 - accuracy: 0.8350 - val_loss: 0.5559 - val_accuracy: 0.7500 - 126s/epoch - 3s/step\n",
            "Epoch 61/150\n",
            "50/50 - 91s - loss: 0.3890 - accuracy: 0.8400 - val_loss: 0.3552 - val_accuracy: 0.8000 - 91s/epoch - 2s/step\n",
            "Epoch 62/150\n",
            "50/50 - 107s - loss: 0.4622 - accuracy: 0.7850 - val_loss: 0.4422 - val_accuracy: 0.8500 - 107s/epoch - 2s/step\n",
            "Epoch 63/150\n",
            "50/50 - 104s - loss: 0.4235 - accuracy: 0.7900 - val_loss: 0.3048 - val_accuracy: 0.9000 - 104s/epoch - 2s/step\n",
            "Epoch 64/150\n",
            "50/50 - 101s - loss: 0.3897 - accuracy: 0.8450 - val_loss: 0.5590 - val_accuracy: 0.7000 - 101s/epoch - 2s/step\n",
            "Epoch 65/150\n",
            "50/50 - 153s - loss: 0.4030 - accuracy: 0.8300 - val_loss: 0.4185 - val_accuracy: 0.8000 - 153s/epoch - 3s/step\n",
            "Epoch 66/150\n",
            "50/50 - 125s - loss: 0.3890 - accuracy: 0.8300 - val_loss: 0.6170 - val_accuracy: 0.6000 - 125s/epoch - 3s/step\n",
            "Epoch 67/150\n",
            "50/50 - 160s - loss: 0.3358 - accuracy: 0.8600 - val_loss: 0.5340 - val_accuracy: 0.7000 - 160s/epoch - 3s/step\n",
            "Epoch 68/150\n",
            "50/50 - 148s - loss: 0.3879 - accuracy: 0.8250 - val_loss: 0.5366 - val_accuracy: 0.7000 - 148s/epoch - 3s/step\n",
            "Epoch 69/150\n",
            "50/50 - 137s - loss: 0.3586 - accuracy: 0.8450 - val_loss: 0.5455 - val_accuracy: 0.7500 - 137s/epoch - 3s/step\n",
            "Epoch 70/150\n",
            "50/50 - 140s - loss: 0.3754 - accuracy: 0.8200 - val_loss: 0.4578 - val_accuracy: 0.7000 - 140s/epoch - 3s/step\n",
            "Epoch 71/150\n",
            "50/50 - 101s - loss: 0.4103 - accuracy: 0.8400 - val_loss: 0.3719 - val_accuracy: 0.7500 - 101s/epoch - 2s/step\n",
            "Epoch 72/150\n",
            "50/50 - 115s - loss: 0.3553 - accuracy: 0.8650 - val_loss: 0.6672 - val_accuracy: 0.7500 - 115s/epoch - 2s/step\n",
            "Epoch 73/150\n",
            "50/50 - 123s - loss: 0.3614 - accuracy: 0.8500 - val_loss: 0.3535 - val_accuracy: 0.9000 - 123s/epoch - 2s/step\n",
            "Epoch 74/150\n",
            "50/50 - 116s - loss: 0.3739 - accuracy: 0.8250 - val_loss: 0.5182 - val_accuracy: 0.8000 - 116s/epoch - 2s/step\n",
            "Epoch 75/150\n",
            "50/50 - 104s - loss: 0.3735 - accuracy: 0.8150 - val_loss: 0.6158 - val_accuracy: 0.7500 - 104s/epoch - 2s/step\n",
            "Epoch 76/150\n",
            "50/50 - 97s - loss: 0.3362 - accuracy: 0.8600 - val_loss: 0.5090 - val_accuracy: 0.7000 - 97s/epoch - 2s/step\n",
            "Epoch 77/150\n",
            "50/50 - 112s - loss: 0.4034 - accuracy: 0.8350 - val_loss: 0.4323 - val_accuracy: 0.7500 - 112s/epoch - 2s/step\n",
            "Epoch 78/150\n",
            "50/50 - 97s - loss: 0.3462 - accuracy: 0.8400 - val_loss: 0.5956 - val_accuracy: 0.7000 - 97s/epoch - 2s/step\n",
            "Epoch 79/150\n",
            "50/50 - 103s - loss: 0.3625 - accuracy: 0.8350 - val_loss: 0.4955 - val_accuracy: 0.7500 - 103s/epoch - 2s/step\n",
            "Epoch 80/150\n",
            "50/50 - 83s - loss: 0.3880 - accuracy: 0.8250 - val_loss: 0.4573 - val_accuracy: 0.8500 - 83s/epoch - 2s/step\n",
            "Epoch 81/150\n",
            "50/50 - 99s - loss: 0.3493 - accuracy: 0.8650 - val_loss: 0.2240 - val_accuracy: 0.9500 - 99s/epoch - 2s/step\n",
            "Epoch 82/150\n",
            "50/50 - 90s - loss: 0.2985 - accuracy: 0.8700 - val_loss: 0.3262 - val_accuracy: 0.8500 - 90s/epoch - 2s/step\n",
            "Epoch 83/150\n",
            "50/50 - 99s - loss: 0.3709 - accuracy: 0.8400 - val_loss: 0.6299 - val_accuracy: 0.7000 - 99s/epoch - 2s/step\n",
            "Epoch 84/150\n",
            "50/50 - 100s - loss: 0.3052 - accuracy: 0.8650 - val_loss: 0.2797 - val_accuracy: 0.8500 - 100s/epoch - 2s/step\n",
            "Epoch 85/150\n",
            "50/50 - 84s - loss: 0.3220 - accuracy: 0.8700 - val_loss: 0.5327 - val_accuracy: 0.8500 - 84s/epoch - 2s/step\n",
            "Epoch 86/150\n",
            "50/50 - 95s - loss: 0.3392 - accuracy: 0.8700 - val_loss: 0.4503 - val_accuracy: 0.7500 - 95s/epoch - 2s/step\n",
            "Epoch 87/150\n",
            "50/50 - 83s - loss: 0.3027 - accuracy: 0.8700 - val_loss: 0.6593 - val_accuracy: 0.8000 - 83s/epoch - 2s/step\n",
            "Epoch 88/150\n",
            "50/50 - 97s - loss: 0.3082 - accuracy: 0.8750 - val_loss: 0.4460 - val_accuracy: 0.8500 - 97s/epoch - 2s/step\n",
            "Epoch 89/150\n",
            "50/50 - 93s - loss: 0.3135 - accuracy: 0.8700 - val_loss: 0.4816 - val_accuracy: 0.8000 - 93s/epoch - 2s/step\n",
            "Epoch 90/150\n",
            "50/50 - 86s - loss: 0.3328 - accuracy: 0.8550 - val_loss: 0.3934 - val_accuracy: 0.8500 - 86s/epoch - 2s/step\n",
            "Epoch 91/150\n",
            "50/50 - 106s - loss: 0.3055 - accuracy: 0.8650 - val_loss: 0.7894 - val_accuracy: 0.7000 - 106s/epoch - 2s/step\n",
            "Epoch 92/150\n",
            "50/50 - 95s - loss: 0.3074 - accuracy: 0.8750 - val_loss: 0.3840 - val_accuracy: 0.7000 - 95s/epoch - 2s/step\n",
            "Epoch 93/150\n",
            "50/50 - 95s - loss: 0.2973 - accuracy: 0.8750 - val_loss: 0.1950 - val_accuracy: 0.9500 - 95s/epoch - 2s/step\n",
            "Epoch 94/150\n",
            "50/50 - 90s - loss: 0.3647 - accuracy: 0.8200 - val_loss: 0.7469 - val_accuracy: 0.6500 - 90s/epoch - 2s/step\n",
            "Epoch 95/150\n",
            "50/50 - 94s - loss: 0.2972 - accuracy: 0.8650 - val_loss: 0.5332 - val_accuracy: 0.8500 - 94s/epoch - 2s/step\n",
            "Epoch 96/150\n",
            "50/50 - 92s - loss: 0.2820 - accuracy: 0.8950 - val_loss: 0.8700 - val_accuracy: 0.4500 - 92s/epoch - 2s/step\n",
            "Epoch 97/150\n",
            "50/50 - 98s - loss: 0.3738 - accuracy: 0.8250 - val_loss: 0.4208 - val_accuracy: 0.8000 - 98s/epoch - 2s/step\n",
            "Epoch 98/150\n",
            "50/50 - 89s - loss: 0.3483 - accuracy: 0.8550 - val_loss: 0.4859 - val_accuracy: 0.8000 - 89s/epoch - 2s/step\n",
            "Epoch 99/150\n",
            "50/50 - 105s - loss: 0.2684 - accuracy: 0.8850 - val_loss: 0.6032 - val_accuracy: 0.7500 - 105s/epoch - 2s/step\n",
            "Epoch 100/150\n",
            "50/50 - 94s - loss: 0.2694 - accuracy: 0.8950 - val_loss: 0.6059 - val_accuracy: 0.7500 - 94s/epoch - 2s/step\n",
            "Epoch 101/150\n",
            "50/50 - 99s - loss: 0.2885 - accuracy: 0.8700 - val_loss: 0.6821 - val_accuracy: 0.7000 - 99s/epoch - 2s/step\n",
            "Epoch 102/150\n",
            "50/50 - 108s - loss: 0.2828 - accuracy: 0.8700 - val_loss: 0.7609 - val_accuracy: 0.8000 - 108s/epoch - 2s/step\n",
            "Epoch 103/150\n",
            "50/50 - 102s - loss: 0.3195 - accuracy: 0.8500 - val_loss: 0.5969 - val_accuracy: 0.7000 - 102s/epoch - 2s/step\n",
            "Epoch 104/150\n",
            "50/50 - 94s - loss: 0.2698 - accuracy: 0.8750 - val_loss: 0.5609 - val_accuracy: 0.8500 - 94s/epoch - 2s/step\n",
            "Epoch 105/150\n",
            "50/50 - 84s - loss: 0.3042 - accuracy: 0.8750 - val_loss: 0.3227 - val_accuracy: 0.8500 - 84s/epoch - 2s/step\n",
            "Epoch 106/150\n",
            "50/50 - 96s - loss: 0.3442 - accuracy: 0.8250 - val_loss: 0.4679 - val_accuracy: 0.7500 - 96s/epoch - 2s/step\n",
            "Epoch 107/150\n",
            "50/50 - 84s - loss: 0.2665 - accuracy: 0.8950 - val_loss: 0.6416 - val_accuracy: 0.8000 - 84s/epoch - 2s/step\n",
            "Epoch 108/150\n",
            "50/50 - 106s - loss: 0.3094 - accuracy: 0.8750 - val_loss: 0.2609 - val_accuracy: 0.9000 - 106s/epoch - 2s/step\n",
            "Epoch 109/150\n",
            "50/50 - 96s - loss: 0.2478 - accuracy: 0.9050 - val_loss: 0.5222 - val_accuracy: 0.8500 - 96s/epoch - 2s/step\n",
            "Epoch 110/150\n",
            "50/50 - 91s - loss: 0.2506 - accuracy: 0.8900 - val_loss: 0.7251 - val_accuracy: 0.6500 - 91s/epoch - 2s/step\n",
            "Epoch 111/150\n",
            "50/50 - 100s - loss: 0.2521 - accuracy: 0.8900 - val_loss: 0.4199 - val_accuracy: 0.8000 - 100s/epoch - 2s/step\n",
            "Epoch 112/150\n",
            "50/50 - 92s - loss: 0.2325 - accuracy: 0.9050 - val_loss: 0.6689 - val_accuracy: 0.7000 - 92s/epoch - 2s/step\n",
            "Epoch 113/150\n",
            "50/50 - 85s - loss: 0.2515 - accuracy: 0.8850 - val_loss: 0.2170 - val_accuracy: 0.9000 - 85s/epoch - 2s/step\n",
            "Epoch 114/150\n",
            "50/50 - 105s - loss: 0.2852 - accuracy: 0.8900 - val_loss: 0.8686 - val_accuracy: 0.7000 - 105s/epoch - 2s/step\n",
            "Epoch 115/150\n",
            "50/50 - 105s - loss: 0.2241 - accuracy: 0.9200 - val_loss: 0.7091 - val_accuracy: 0.6000 - 105s/epoch - 2s/step\n",
            "Epoch 116/150\n",
            "50/50 - 94s - loss: 0.2815 - accuracy: 0.8650 - val_loss: 0.9247 - val_accuracy: 0.7000 - 94s/epoch - 2s/step\n",
            "Epoch 117/150\n",
            "50/50 - 102s - loss: 0.2584 - accuracy: 0.8500 - val_loss: 0.5148 - val_accuracy: 0.8500 - 102s/epoch - 2s/step\n",
            "Epoch 118/150\n",
            "50/50 - 94s - loss: 0.2268 - accuracy: 0.9150 - val_loss: 0.5239 - val_accuracy: 0.7500 - 94s/epoch - 2s/step\n",
            "Epoch 119/150\n",
            "50/50 - 95s - loss: 0.1975 - accuracy: 0.9200 - val_loss: 0.7934 - val_accuracy: 0.7500 - 95s/epoch - 2s/step\n",
            "Epoch 120/150\n",
            "50/50 - 77s - loss: 0.1806 - accuracy: 0.9300 - val_loss: 0.3194 - val_accuracy: 0.8000 - 77s/epoch - 2s/step\n",
            "Epoch 121/150\n",
            "50/50 - 78s - loss: 0.2295 - accuracy: 0.9050 - val_loss: 0.9541 - val_accuracy: 0.7500 - 78s/epoch - 2s/step\n",
            "Epoch 122/150\n",
            "50/50 - 110s - loss: 0.2332 - accuracy: 0.9150 - val_loss: 0.4697 - val_accuracy: 0.7500 - 110s/epoch - 2s/step\n",
            "Epoch 123/150\n",
            "50/50 - 95s - loss: 0.2322 - accuracy: 0.9200 - val_loss: 0.3805 - val_accuracy: 0.8000 - 95s/epoch - 2s/step\n",
            "Epoch 124/150\n",
            "50/50 - 90s - loss: 0.2168 - accuracy: 0.9200 - val_loss: 0.3999 - val_accuracy: 0.8000 - 90s/epoch - 2s/step\n",
            "Epoch 125/150\n",
            "50/50 - 98s - loss: 0.1912 - accuracy: 0.9300 - val_loss: 0.7956 - val_accuracy: 0.7500 - 98s/epoch - 2s/step\n",
            "Epoch 126/150\n",
            "50/50 - 102s - loss: 0.2736 - accuracy: 0.8800 - val_loss: 0.4436 - val_accuracy: 0.8000 - 102s/epoch - 2s/step\n",
            "Epoch 127/150\n",
            "50/50 - 100s - loss: 0.1952 - accuracy: 0.9250 - val_loss: 0.7175 - val_accuracy: 0.5500 - 100s/epoch - 2s/step\n",
            "Epoch 128/150\n",
            "50/50 - 99s - loss: 0.2374 - accuracy: 0.9050 - val_loss: 0.5044 - val_accuracy: 0.8500 - 99s/epoch - 2s/step\n",
            "Epoch 129/150\n",
            "50/50 - 103s - loss: 0.2081 - accuracy: 0.9150 - val_loss: 0.6265 - val_accuracy: 0.8000 - 103s/epoch - 2s/step\n",
            "Epoch 130/150\n",
            "50/50 - 87s - loss: 0.2360 - accuracy: 0.8900 - val_loss: 0.5422 - val_accuracy: 0.7000 - 87s/epoch - 2s/step\n",
            "Epoch 131/150\n",
            "50/50 - 101s - loss: 0.2145 - accuracy: 0.9150 - val_loss: 0.3432 - val_accuracy: 0.9000 - 101s/epoch - 2s/step\n",
            "Epoch 132/150\n",
            "50/50 - 97s - loss: 0.1985 - accuracy: 0.9300 - val_loss: 0.6726 - val_accuracy: 0.8000 - 97s/epoch - 2s/step\n",
            "Epoch 133/150\n",
            "50/50 - 102s - loss: 0.2253 - accuracy: 0.9150 - val_loss: 0.4365 - val_accuracy: 0.7500 - 102s/epoch - 2s/step\n",
            "Epoch 134/150\n",
            "50/50 - 82s - loss: 0.1812 - accuracy: 0.9250 - val_loss: 0.5493 - val_accuracy: 0.8000 - 82s/epoch - 2s/step\n",
            "Epoch 135/150\n",
            "50/50 - 107s - loss: 0.1946 - accuracy: 0.9100 - val_loss: 0.4977 - val_accuracy: 0.8500 - 107s/epoch - 2s/step\n",
            "Epoch 136/150\n",
            "50/50 - 108s - loss: 0.1944 - accuracy: 0.9150 - val_loss: 0.8967 - val_accuracy: 0.7000 - 108s/epoch - 2s/step\n",
            "Epoch 137/150\n",
            "50/50 - 93s - loss: 0.2147 - accuracy: 0.9050 - val_loss: 0.4860 - val_accuracy: 0.8500 - 93s/epoch - 2s/step\n",
            "Epoch 138/150\n",
            "50/50 - 102s - loss: 0.1456 - accuracy: 0.9550 - val_loss: 0.5992 - val_accuracy: 0.7000 - 102s/epoch - 2s/step\n",
            "Epoch 139/150\n",
            "50/50 - 98s - loss: 0.1687 - accuracy: 0.9150 - val_loss: 0.5397 - val_accuracy: 0.8000 - 98s/epoch - 2s/step\n",
            "Epoch 140/150\n",
            "50/50 - 94s - loss: 0.1735 - accuracy: 0.9500 - val_loss: 0.2873 - val_accuracy: 0.8500 - 94s/epoch - 2s/step\n",
            "Epoch 141/150\n",
            "50/50 - 91s - loss: 0.1390 - accuracy: 0.9400 - val_loss: 0.5966 - val_accuracy: 0.7500 - 91s/epoch - 2s/step\n",
            "Epoch 142/150\n",
            "50/50 - 107s - loss: 0.2135 - accuracy: 0.9050 - val_loss: 0.3793 - val_accuracy: 0.8500 - 107s/epoch - 2s/step\n",
            "Epoch 143/150\n",
            "50/50 - 107s - loss: 0.1655 - accuracy: 0.9450 - val_loss: 0.3985 - val_accuracy: 0.9000 - 107s/epoch - 2s/step\n",
            "Epoch 144/150\n",
            "50/50 - 95s - loss: 0.1295 - accuracy: 0.9550 - val_loss: 0.7795 - val_accuracy: 0.7000 - 95s/epoch - 2s/step\n",
            "Epoch 145/150\n",
            "50/50 - 109s - loss: 0.1776 - accuracy: 0.9150 - val_loss: 0.6649 - val_accuracy: 0.7000 - 109s/epoch - 2s/step\n",
            "Epoch 146/150\n",
            "50/50 - 89s - loss: 0.1457 - accuracy: 0.9500 - val_loss: 0.4709 - val_accuracy: 0.7000 - 89s/epoch - 2s/step\n",
            "Epoch 147/150\n",
            "50/50 - 95s - loss: 0.2017 - accuracy: 0.9000 - val_loss: 0.5348 - val_accuracy: 0.8000 - 95s/epoch - 2s/step\n",
            "Epoch 148/150\n",
            "50/50 - 84s - loss: 0.1735 - accuracy: 0.9300 - val_loss: 0.5901 - val_accuracy: 0.8000 - 84s/epoch - 2s/step\n",
            "Epoch 149/150\n",
            "50/50 - 83s - loss: 0.1675 - accuracy: 0.9350 - val_loss: 0.2763 - val_accuracy: 0.9500 - 83s/epoch - 2s/step\n",
            "Epoch 150/150\n",
            "50/50 - 95s - loss: 0.1431 - accuracy: 0.9450 - val_loss: 0.6552 - val_accuracy: 0.7500 - 95s/epoch - 2s/step\n"
          ]
        }
      ],
      "source": [
        "epoch = 150\n",
        "history = model.fit(train_generator,validation_data=validation_generator,epochs=epoch,verbose=2,steps_per_epoch=50,validation_steps=5)"
      ]
    },
    {
      "cell_type": "code",
      "execution_count": 19,
      "metadata": {
        "colab": {
          "base_uri": "https://localhost:8080/",
          "height": 235
        },
        "id": "91RaA5gdk3Ou",
        "outputId": "971063f2-0d5f-4014-b03e-05aea1c657ae"
      },
      "outputs": [
        {
          "ename": "NameError",
          "evalue": "name 'history' is not defined",
          "output_type": "error",
          "traceback": [
            "\u001b[1;31m---------------------------------------------------------------------------\u001b[0m",
            "\u001b[1;31mNameError\u001b[0m                                 Traceback (most recent call last)",
            "Cell \u001b[1;32mIn[19], line 1\u001b[0m\n\u001b[1;32m----> 1\u001b[0m acc \u001b[39m=\u001b[39m history\u001b[39m.\u001b[39mhistory[\u001b[39m'\u001b[39m\u001b[39maccuracy\u001b[39m\u001b[39m'\u001b[39m]\n\u001b[0;32m      2\u001b[0m val_acc \u001b[39m=\u001b[39m history\u001b[39m.\u001b[39mhistory[\u001b[39m'\u001b[39m\u001b[39mval_accuracy\u001b[39m\u001b[39m'\u001b[39m]\n\u001b[0;32m      4\u001b[0m loss \u001b[39m=\u001b[39m history\u001b[39m.\u001b[39mhistory[\u001b[39m'\u001b[39m\u001b[39mloss\u001b[39m\u001b[39m'\u001b[39m]\n",
            "\u001b[1;31mNameError\u001b[0m: name 'history' is not defined"
          ]
        }
      ],
      "source": [
        "acc = history.history['accuracy']\n",
        "val_acc = history.history['val_accuracy']\n",
        "\n",
        "loss = history.history['loss']\n",
        "val_loss = history.history['val_loss']\n",
        "\n",
        "epochs_range = range(150)\n",
        "\n",
        "plt.figure(figsize=(28, 12))\n",
        "plt.subplot(1, 2, 1)\n",
        "plt.plot(epochs_range, acc, label='Training Accuracy')\n",
        "plt.plot(epochs_range, val_acc, label='Validation Accuracy')\n",
        "plt.legend(loc='lower right')\n",
        "plt.title('Training and Validation Accuracy')\n",
        "\n",
        "plt.subplot(1, 2, 2)\n",
        "plt.plot(epochs_range, loss, label='Training Loss')\n",
        "plt.plot(epochs_range, val_loss, label='Validation Loss')\n",
        "plt.legend(loc='upper right')\n",
        "plt.title('Training and Validation Loss')\n",
        "plt.show()"
      ]
    },
    {
      "cell_type": "code",
      "execution_count": 20,
      "metadata": {
        "id": "TbuB66Z0mCmO"
      },
      "outputs": [
        {
          "name": "stdout",
          "output_type": "stream",
          "text": [
            "You must install pydot (`pip install pydot`) and install graphviz (see instructions at https://graphviz.gitlab.io/download/) for plot_model to work.\n"
          ]
        }
      ],
      "source": [
        "from keras.utils.vis_utils import plot_model\n",
        "\n",
        "plot_model(model,to_file='model.png', show_shapes=True, show_dtype=True)"
      ]
    },
    {
      "cell_type": "markdown",
      "metadata": {
        "id": "pQTMISTpmUAA"
      },
      "source": [
        "**Prediksi**"
      ]
    },
    {
      "cell_type": "code",
      "execution_count": 21,
      "metadata": {
        "colab": {
          "base_uri": "https://localhost:8080/",
          "height": 469
        },
        "id": "q4QNwZz0mSXH",
        "outputId": "ab9ac1bc-b6a2-4b41-d233-c3dd30420e45"
      },
      "outputs": [
        {
          "name": "stdout",
          "output_type": "stream",
          "text": [
            "1/1 [==============================] - 0s 387ms/step\n",
            "Citra ini cenderung dikategorikan ke kategori Diabetic dengan 71.67 persen confidence.\n"
          ]
        },
        {
          "data": {
            "image/png": "[encoded data removed]",
            "text/plain": [
              "<Figure size 640x480 with 1 Axes>"
            ]
          },
          "metadata": {},
          "output_type": "display_data"
        }
      ],
      "source": [
        "import tensorflow as tf\n",
        "from tensorflow.keras.preprocessing.image import load_img, img_to_array\n",
        "\n",
        "import keras\n",
        "IMG_SIZE = 512\n",
        "Pred_Path =\"normal_images/10_left.jpeg\"\n",
        "Pred_result_Path = \"Prediksi.png\"\n",
        "\n",
        "img = cv2.imread(Pred_Path)\n",
        "img_process = cv2.cvtColor(img, cv2.COLOR_BGR2GRAY)\n",
        "img_process = cv2.resize(img_process, (IMG_SIZE, IMG_SIZE))\n",
        "img_process = cv2.addWeighted(img_process,4, cv2.GaussianBlur(img_process, (0,0), 40), -4,128)\n",
        "cv2.imwrite(Pred_result_Path, img_process)\n",
        "\n",
        "import keras\n",
        "img_plot = load_img(Pred_Path, target_size=(150,150))\n",
        "img_pred = load_img(Pred_result_Path, target_size=(150,150))\n",
        "img_array = img_to_array(img_pred)\n",
        "img_array = tf.expand_dims(img_array, 0) \n",
        "\n",
        "predictions = model.predict(img_array)\n",
        "score = tf.nn.sigmoid(predictions[0])\n",
        "imgplot = plt.imshow(img_plot)\n",
        "\n",
        "print(\n",
        "    \"Citra ini cenderung dikategorikan ke kategori {} dengan {:.2f} persen confidence.\"\n",
        "    .format(class_names[np.argmax(score)], 100* np.max(score))\n",
        ")\n",
        "\n"
      ]
    },
    {
      "cell_type": "code",
      "execution_count": 26,
      "metadata": {
        "id": "ByaxNN02pTAn"
      },
      "outputs": [],
      "source": [
        "Testing_datagen = ImageDataGenerator(rescale=1./255)"
      ]
    },
    {
      "cell_type": "code",
      "execution_count": 27,
      "metadata": {
        "colab": {
          "base_uri": "https://localhost:8080/"
        },
        "id": "O6smPMf6r_Bq",
        "outputId": "5fcd8778-a813-435f-8ffe-8f114b5e8213"
      },
      "outputs": [
        {
          "name": "stdout",
          "output_type": "stream",
          "text": [
            "Found 400 images belonging to 2 classes.\n"
          ]
        }
      ],
      "source": [
        "test_generator = Testing_datagen.flow_from_directory(\n",
        "    testing_dir,\n",
        "    target_size=(150,150),\n",
        "    batch_size=4,\n",
        "    class_mode='categorical'\n",
        ")"
      ]
    },
    {
      "cell_type": "code",
      "execution_count": 28,
      "metadata": {
        "colab": {
          "base_uri": "https://localhost:8080/",
          "height": 1000
        },
        "id": "ZGR9FYczsKax",
        "outputId": "9837df50-19db-451b-cd62-85b96de8c074"
      },
      "outputs": [
        {
          "name": "stdout",
          "output_type": "stream",
          "text": [
            "100/100 [==============================] - 12s 112ms/step - loss: 0.6939 - accuracy: 0.5000\n",
            "Hasil pengujian akurasi adalah : 50.0 %\n"
          ]
        }
      ],
      "source": [
        "test_accu = model.evaluate(test_generator)\n",
        "print('Hasil pengujian akurasi adalah :',test_accu[1]*100, '%')"
      ]
    },
    {
      "cell_type": "code",
      "execution_count": 41,
      "metadata": {
        "id": "kx2P2q0esV1h"
      },
      "outputs": [],
      "source": [
        "model.save('ModelDR.h5')"
      ]
    },
    {
      "cell_type": "code",
      "execution_count": 43,
      "metadata": {
        "colab": {
          "base_uri": "https://localhost:8080/"
        },
        "id": "uYiatelk5lxH",
        "outputId": "18fd70a2-7948-407a-f3c7-ab2038181a99"
      },
      "outputs": [
        {
          "name": "stdout",
          "output_type": "stream",
          "text": [
            "Model: \"sequential\"\n",
            "_________________________________________________________________\n",
            " Layer (type)                Output Shape              Param #   \n",
            "=================================================================\n",
            " conv2d (Conv2D)             (None, 148, 148, 64)      1792      \n",
            "                                                                 \n",
            " max_pooling2d (MaxPooling2D  (None, 74, 74, 64)       0         \n",
            " )                                                               \n",
            "                                                                 \n",
            " conv2d_1 (Conv2D)           (None, 72, 72, 128)       73856     \n",
            "                                                                 \n",
            " max_pooling2d_1 (MaxPooling  (None, 36, 36, 128)      0         \n",
            " 2D)                                                             \n",
            "                                                                 \n",
            " conv2d_2 (Conv2D)           (None, 34, 34, 256)       295168    \n",
            "                                                                 \n",
            " max_pooling2d_2 (MaxPooling  (None, 17, 17, 256)      0         \n",
            " 2D)                                                             \n",
            "                                                                 \n",
            " flatten (Flatten)           (None, 73984)             0         \n",
            "                                                                 \n",
            " dense (Dense)               (None, 512)               37880320  \n",
            "                                                                 \n",
            " dense_1 (Dense)             (None, 512)               262656    \n",
            "                                                                 \n",
            " dense_2 (Dense)             (None, 2)                 1026      \n",
            "                                                                 \n",
            "=================================================================\n",
            "Total params: 38,514,818\n",
            "Trainable params: 38,514,818\n",
            "Non-trainable params: 0\n",
            "_________________________________________________________________\n"
          ]
        }
      ],
      "source": [
        "new_model = tf.keras.models.load_model('ModelDR.h5')\n",
        "\n",
        "new_model.summary()"
      ]
    },
    {
      "cell_type": "code",
      "execution_count": 44,
      "metadata": {
        "colab": {
          "base_uri": "https://localhost:8080/",
          "height": 1000
        },
        "id": "R_N4P7SN6RxY",
        "outputId": "2e855ce4-22c6-4a17-c230-28bef26a4788"
      },
      "outputs": [
        {
          "name": "stdout",
          "output_type": "stream",
          "text": [
            "100/100 [==============================] - 17s 151ms/step - loss: 0.1693 - accuracy: 0.9450\n",
            "The testing accuracy is : 94.49999928474426 %\n"
          ]
        }
      ],
      "source": [
        "test_accu = new_model.evaluate(test_generator)\n",
        "print('The testing accuracy is :',test_accu[1]*100, '%')"
      ]
    },
    {
      "cell_type": "code",
      "execution_count": null,
      "metadata": {},
      "outputs": [],
      "source": []
    }
  ],
  "metadata": {
    "colab": {
      "provenance": []
    },
    "kernelspec": {
      "display_name": "Python 3",
      "name": "python3"
    },
    "language_info": {
      "codemirror_mode": {
        "name": "ipython",
        "version": 3
      },
      "file_extension": ".py",
      "mimetype": "text/x-python",
      "name": "python",
      "nbconvert_exporter": "python",
      "pygments_lexer": "ipython3",
      "version": "3.11.3"
    }
  },
  "nbformat": 4,
  "nbformat_minor": 0
}
